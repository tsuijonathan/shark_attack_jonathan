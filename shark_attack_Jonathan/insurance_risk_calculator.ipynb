{
 "cells": [
  {
   "cell_type": "code",
   "execution_count": 79,
   "id": "a5d25619",
   "metadata": {},
   "outputs": [],
   "source": [
    "import numpy as np\n",
    "import pandas as pd"
   ]
  },
  {
   "cell_type": "code",
   "execution_count": 80,
   "id": "db138678",
   "metadata": {},
   "outputs": [
    {
     "data": {
      "text/html": [
       "<div>\n",
       "<style scoped>\n",
       "    .dataframe tbody tr th:only-of-type {\n",
       "        vertical-align: middle;\n",
       "    }\n",
       "\n",
       "    .dataframe tbody tr th {\n",
       "        vertical-align: top;\n",
       "    }\n",
       "\n",
       "    .dataframe thead th {\n",
       "        text-align: right;\n",
       "    }\n",
       "</style>\n",
       "<table border=\"1\" class=\"dataframe\">\n",
       "  <thead>\n",
       "    <tr style=\"text-align: right;\">\n",
       "      <th></th>\n",
       "      <th>date</th>\n",
       "      <th>year</th>\n",
       "      <th>country</th>\n",
       "      <th>activity</th>\n",
       "      <th>sex</th>\n",
       "      <th>age</th>\n",
       "      <th>fatal</th>\n",
       "      <th>datetime_column</th>\n",
       "      <th>string_column</th>\n",
       "      <th>month</th>\n",
       "      <th>season</th>\n",
       "    </tr>\n",
       "  </thead>\n",
       "  <tbody>\n",
       "    <tr>\n",
       "      <th>0</th>\n",
       "      <td>2024-10-11 00:00:00</td>\n",
       "      <td>2024</td>\n",
       "      <td>USA</td>\n",
       "      <td>surfing</td>\n",
       "      <td>M</td>\n",
       "      <td>16</td>\n",
       "      <td>no</td>\n",
       "      <td>2024-10-11 00:00:00</td>\n",
       "      <td>NaN</td>\n",
       "      <td>10</td>\n",
       "      <td>Autumn</td>\n",
       "    </tr>\n",
       "    <tr>\n",
       "      <th>1</th>\n",
       "      <td>2024-07-23 00:00:00</td>\n",
       "      <td>2024</td>\n",
       "      <td>Australia</td>\n",
       "      <td>surfing</td>\n",
       "      <td>M</td>\n",
       "      <td>23</td>\n",
       "      <td>no</td>\n",
       "      <td>2024-07-23 00:00:00</td>\n",
       "      <td>NaN</td>\n",
       "      <td>7</td>\n",
       "      <td>Summer</td>\n",
       "    </tr>\n",
       "    <tr>\n",
       "      <th>2</th>\n",
       "      <td>2024-07-18 00:00:00</td>\n",
       "      <td>2024</td>\n",
       "      <td>Australia</td>\n",
       "      <td>surfing</td>\n",
       "      <td>M</td>\n",
       "      <td>41</td>\n",
       "      <td>no</td>\n",
       "      <td>2024-07-18 00:00:00</td>\n",
       "      <td>NaN</td>\n",
       "      <td>7</td>\n",
       "      <td>Summer</td>\n",
       "    </tr>\n",
       "    <tr>\n",
       "      <th>3</th>\n",
       "      <td>2024-07-08 00:00:00</td>\n",
       "      <td>2024</td>\n",
       "      <td>USA</td>\n",
       "      <td>diving</td>\n",
       "      <td>M</td>\n",
       "      <td>14</td>\n",
       "      <td>no</td>\n",
       "      <td>2024-07-08 00:00:00</td>\n",
       "      <td>NaN</td>\n",
       "      <td>7</td>\n",
       "      <td>Summer</td>\n",
       "    </tr>\n",
       "    <tr>\n",
       "      <th>4</th>\n",
       "      <td>2024-07-05 00:00:00</td>\n",
       "      <td>2024</td>\n",
       "      <td>USA</td>\n",
       "      <td>wading</td>\n",
       "      <td>M</td>\n",
       "      <td>26</td>\n",
       "      <td>no</td>\n",
       "      <td>2024-07-05 00:00:00</td>\n",
       "      <td>NaN</td>\n",
       "      <td>7</td>\n",
       "      <td>Summer</td>\n",
       "    </tr>\n",
       "  </tbody>\n",
       "</table>\n",
       "</div>"
      ],
      "text/plain": [
       "                  date  year    country activity sex  age fatal  \\\n",
       "0  2024-10-11 00:00:00  2024        USA  surfing   M   16    no   \n",
       "1  2024-07-23 00:00:00  2024  Australia  surfing   M   23    no   \n",
       "2  2024-07-18 00:00:00  2024  Australia  surfing   M   41    no   \n",
       "3  2024-07-08 00:00:00  2024        USA   diving   M   14    no   \n",
       "4  2024-07-05 00:00:00  2024        USA   wading   M   26    no   \n",
       "\n",
       "       datetime_column string_column  month  season  \n",
       "0  2024-10-11 00:00:00           NaN     10  Autumn  \n",
       "1  2024-07-23 00:00:00           NaN      7  Summer  \n",
       "2  2024-07-18 00:00:00           NaN      7  Summer  \n",
       "3  2024-07-08 00:00:00           NaN      7  Summer  \n",
       "4  2024-07-05 00:00:00           NaN      7  Summer  "
      ]
     },
     "execution_count": 80,
     "metadata": {},
     "output_type": "execute_result"
    }
   ],
   "source": [
    "shark_df = pd.read_csv('shark_final_df.csv')\n",
    "shark_df.head(5)"
   ]
  },
  {
   "cell_type": "code",
   "execution_count": 81,
   "id": "1654cb22",
   "metadata": {},
   "outputs": [
    {
     "data": {
      "text/plain": [
       "activity\n",
       "surfing            336\n",
       "swimming           181\n",
       "fishing            171\n",
       "diving              53\n",
       "snorkeling          50\n",
       "wading              38\n",
       "standing            24\n",
       "boogie boarding     20\n",
       "body boarding       17\n",
       "kayaking            14\n",
       "Name: count, dtype: int64"
      ]
     },
     "execution_count": 81,
     "metadata": {},
     "output_type": "execute_result"
    }
   ],
   "source": [
    "shark_df.activity.value_counts()"
   ]
  },
  {
   "cell_type": "markdown",
   "id": "b9f23d4e",
   "metadata": {},
   "source": [
    "# Function Block (Risk Calculation)"
   ]
  },
  {
   "cell_type": "code",
   "execution_count": 83,
   "id": "d879f1cd",
   "metadata": {},
   "outputs": [],
   "source": [
    "# must be updated relative to the cleaned dataframe\n",
    "coastline_lengths = {\n",
    "    'USA': 19924,\n",
    "    'Australia': 25760,\n",
    "    'South Africa': 2798,\n",
    "    'Bahamas': 3542,\n",
    "    'New Zealand': 15134,\n",
    "    'Mexico': 9330,\n",
    "    'Brazil': 7491,\n",
    "    'New Caledonia': 2254,\n",
    "    'French Polynesia': 2525,\n",
    "    'Egypt': 2450}\n",
    "\n",
    "def risk_country(client_country):\n",
    "    \n",
    "    top_10_countries = shark_df.country.value_counts().head(10)\n",
    "    \n",
    "    # attack risk for the client country = number of attacks in the client country divided by the coastline length \n",
    "    attack_risk = round(top_10_countries[client_country] / coastline_lengths[client_country], 3)     \n",
    "    \n",
    "    # number of attacks in the client country that were fatal\n",
    "    number_of_fatal_attacks = len(shark_df[(shark_df.country == client_country) & (shark_df.fatal == 'yes')])\n",
    "    \n",
    "    # number of fatal attacks divided by the total number of shark attacks in that country\n",
    "    fatality_risk = number_of_fatal_attacks / top_10_countries[client_country]\n",
    "    \n",
    "    return fatality_risk * attack_risk\n",
    "\n",
    "\n",
    "def risk_season(client_season):\n",
    "    \n",
    "    seasons = shark_df.season.value_counts()\n",
    "    \n",
    "    number_of_fatal_attacks = len(shark_df[(shark_df.season == client_season) & (shark_df.fatal == 'yes')])\n",
    "    fatality_risk = number_of_fatal_attacks / seasons[client_season]\n",
    "    \n",
    "    return fatality_risk\n",
    "\n",
    "\n",
    "def risk_activity(client_activity):\n",
    "    \n",
    "    top_10_risks = shark_df.activity.value_counts().head(10)\n",
    "    \n",
    "    number_of_fatal_attacks = len(shark_df[(shark_df.activity == client_activity) & (shark_df.fatal == 'yes')])\n",
    "    fatality_risk = number_of_fatal_attacks / top_10_risks[client_activity]\n",
    "    \n",
    "    return fatality_risk\n",
    "\n",
    "\n",
    "#def risk_age(client_age):\n",
    "    \n",
    "    #number_of_fatal_attacks = len(shark_df[(shark_df.age == client_age) & (shark_df.fatal == 'yes')])\n",
    "    #fatality_risk = number_of_fatal_attacks / shark_df.age.value_counts()[client_age]\n",
    "    \n",
    "    #return fatality_risk\n",
    "\n",
    "\n",
    "def risk_sex(client_sex):\n",
    "    \n",
    "    sexs = shark_df.sex.value_counts()\n",
    "    \n",
    "    number_of_fatal_attacks = len(shark_df[(shark_df.sex == client_sex) & (shark_df.fatal == 'yes')])\n",
    "    fatality_risk = number_of_fatal_attacks / sexs[client_sex]\n",
    "    \n",
    "    return fatality_risk\n",
    "\n",
    "\n",
    "def assign_insurance(client_country, client_season, client_activity, client_sex): #client_age\n",
    "    \n",
    "    risk = risk_country(client_country) * risk_season(client_season) * risk_activity(client_activity) * risk_sex(client_sex) #* risk_age(client_age)\n",
    "    \n",
    "    print(risk)\n",
    "\n",
    "    if risk >= float(percentiles.loc[0.25]):\n",
    "        return 'high risk'\n",
    "    \n",
    "    elif risk > float(percentiles.loc[0.15]):\n",
    "        return 'medium risk'  \n",
    "    else:\n",
    "        return 'low risk'"
   ]
  },
  {
   "cell_type": "code",
   "execution_count": 84,
   "id": "1e2a7fff",
   "metadata": {},
   "outputs": [
    {
     "name": "stdout",
     "output_type": "stream",
     "text": [
      "1.0969e-07 1.3557e-07\n"
     ]
    }
   ],
   "source": [
    "# assign a probability to everyone in the dataset\n",
    "# take the 25% percentile of that as low, 50% percentile as medium and 75% percentile as high\n",
    "\n",
    "shark_df['country_risk'] = shark_df['country'].apply(lambda country: risk_country(country))\n",
    "shark_df['season_risk'] = shark_df['season'].apply(lambda season: risk_season(season))\n",
    "shark_df['activity_risk'] = shark_df['activity'].apply(lambda activity: risk_activity(activity))\n",
    "#shark_df['age_risk'] = shark_df['age'].apply(lambda age: risk_age(age))\n",
    "shark_df['sex_risk'] = shark_df['sex'].apply(lambda sex: risk_sex(sex))\n",
    "\n",
    "shark_df['total_risk'] = shark_df['country_risk'] * shark_df['season_risk'] * shark_df['activity_risk'] * shark_df['sex_risk'] #* shark_df['age_risk']\n",
    "percentiles = shark_df['total_risk'].quantile([0.15, 0.25]).apply(lambda x: f\"{x:.4e}\")\n",
    "print(percentiles.loc[0.15], percentiles.loc[0.25])"
   ]
  },
  {
   "cell_type": "code",
   "execution_count": 85,
   "id": "f0cfee31",
   "metadata": {},
   "outputs": [],
   "source": [
    "# User input function\n",
    "def client_entries():\n",
    "    client_country = input('Please enter the country you travel to: ').strip()\n",
    "    client_activity = input('Please enter your activity: ').strip()\n",
    "    #client_age = input('Please enter your age: ').strip()\n",
    "    client_sex = input('Please enter your sex (M/F): ').strip()\n",
    "    client_season = input('Please enter the season of your trip: ').strip()\n",
    "    return client_country, client_season, client_activity, client_sex #client_age"
   ]
  },
  {
   "cell_type": "code",
   "execution_count": 86,
   "id": "a4141bcb",
   "metadata": {},
   "outputs": [
    {
     "name": "stdin",
     "output_type": "stream",
     "text": [
      "Please enter the country you travel to:  Egypt\n",
      "Please enter your activity:  standing\n",
      "Please enter your sex (M/F):  F\n",
      "Please enter the season of your trip:  Autumn\n"
     ]
    },
    {
     "name": "stdout",
     "output_type": "stream",
     "text": [
      "0.0\n"
     ]
    },
    {
     "data": {
      "text/plain": [
       "'low risk'"
      ]
     },
     "execution_count": 86,
     "metadata": {},
     "output_type": "execute_result"
    }
   ],
   "source": [
    "assign_insurance(*client_entries())"
   ]
  },
  {
   "cell_type": "code",
   "execution_count": null,
   "id": "151acb6c",
   "metadata": {},
   "outputs": [],
   "source": []
  }
 ],
 "metadata": {
  "kernelspec": {
   "display_name": "Python 3 (ipykernel)",
   "language": "python",
   "name": "python3"
  },
  "language_info": {
   "codemirror_mode": {
    "name": "ipython",
    "version": 3
   },
   "file_extension": ".py",
   "mimetype": "text/x-python",
   "name": "python",
   "nbconvert_exporter": "python",
   "pygments_lexer": "ipython3",
   "version": "3.12.4"
  }
 },
 "nbformat": 4,
 "nbformat_minor": 5
}
